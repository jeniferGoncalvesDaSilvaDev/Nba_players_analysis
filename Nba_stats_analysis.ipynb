{
  "nbformat": 4,
  "nbformat_minor": 0,
  "metadata": {
    "colab": {
      "provenance": [],
      "authorship_tag": "ABX9TyOqNO816tHwQ9/NgWJP3w6U",
      "include_colab_link": true
    },
    "kernelspec": {
      "name": "python3",
      "display_name": "Python 3"
    },
    "language_info": {
      "name": "python"
    }
  },
  "cells": [
    {
      "cell_type": "markdown",
      "metadata": {
        "id": "view-in-github",
        "colab_type": "text"
      },
      "source": [
        "<a href=\"https://colab.research.google.com/github/jeniferGoncalvesDaSilvaDev/Nba_players_analysis/blob/main/Nba_stats_analysis.ipynb\" target=\"_parent\"><img src=\"https://colab.research.google.com/assets/colab-badge.svg\" alt=\"Open In Colab\"/></a>"
      ]
    },
    {
      "cell_type": "code",
      "execution_count": 1,
      "metadata": {
        "colab": {
          "base_uri": "https://localhost:8080/"
        },
        "id": "70zGip_2j538",
        "outputId": "90fc7a1b-8fa8-4d6c-c67c-43089b7cc63f"
      },
      "outputs": [
        {
          "output_type": "stream",
          "name": "stdout",
          "text": [
            "   player_id                   name  age position                   team  \\\n",
            "0          1           LeBron James   38  Forward     Los Angeles Lakers   \n",
            "1          2          Stephen Curry   35    Guard  Golden State Warriors   \n",
            "2          3  Giannis Antetokounmpo   29  Forward        Milwaukee Bucks   \n",
            "3          4            Luka Dončić   25    Guard       Dallas Mavericks   \n",
            "4          5           Nikola Jokić   29   Center         Denver Nuggets   \n",
            "\n",
            "   points_per_game  assists_per_game  rebounds_per_game  \n",
            "0             25.7               7.4                8.2  \n",
            "1             30.4               6.2                5.3  \n",
            "2             31.1               5.5               11.7  \n",
            "3             28.8               8.7                9.1  \n",
            "4             27.5               9.8               11.4  \n"
          ]
        }
      ],
      "source": [
        "import pandas as pd\n",
        "\n",
        "# Exemplo de dataset em JSON\n",
        "data = [\n",
        "    {\n",
        "        \"player_id\": 1,\n",
        "        \"name\": \"LeBron James\",\n",
        "        \"age\": 38,\n",
        "        \"position\": \"Forward\",\n",
        "        \"team\": \"Los Angeles Lakers\",\n",
        "        \"points_per_game\": 25.7,\n",
        "        \"assists_per_game\": 7.4,\n",
        "        \"rebounds_per_game\": 8.2\n",
        "    },\n",
        "    {\n",
        "        \"player_id\": 2,\n",
        "        \"name\": \"Stephen Curry\",\n",
        "        \"age\": 35,\n",
        "        \"position\": \"Guard\",\n",
        "        \"team\": \"Golden State Warriors\",\n",
        "        \"points_per_game\": 30.4,\n",
        "        \"assists_per_game\": 6.2,\n",
        "        \"rebounds_per_game\": 5.3\n",
        "    },\n",
        "    {\n",
        "        \"player_id\": 3,\n",
        "        \"name\": \"Giannis Antetokounmpo\",\n",
        "        \"age\": 29,\n",
        "        \"position\": \"Forward\",\n",
        "        \"team\": \"Milwaukee Bucks\",\n",
        "        \"points_per_game\": 31.1,\n",
        "        \"assists_per_game\": 5.5,\n",
        "        \"rebounds_per_game\": 11.7\n",
        "    },\n",
        "    {\n",
        "        \"player_id\": 4,\n",
        "        \"name\": \"Luka Dončić\",\n",
        "        \"age\": 25,\n",
        "        \"position\": \"Guard\",\n",
        "        \"team\": \"Dallas Mavericks\",\n",
        "        \"points_per_game\": 28.8,\n",
        "        \"assists_per_game\": 8.7,\n",
        "        \"rebounds_per_game\": 9.1\n",
        "    },\n",
        "    {\n",
        "        \"player_id\": 5,\n",
        "        \"name\": \"Nikola Jokić\",\n",
        "        \"age\": 29,\n",
        "        \"position\": \"Center\",\n",
        "        \"team\": \"Denver Nuggets\",\n",
        "        \"points_per_game\": 27.5,\n",
        "        \"assists_per_game\": 9.8,\n",
        "        \"rebounds_per_game\": 11.4\n",
        "    }\n",
        "]\n",
        "\n",
        "# Criando um DataFrame a partir do JSON\n",
        "df = pd.DataFrame(data)\n",
        "\n",
        "# Exibindo o DataFrame\n",
        "print(df)"
      ]
    },
    {
      "cell_type": "markdown",
      "source": [
        "Quais jogadores têm o melhor desempenho em determinadas métricas básicas (como pontos por jogo, assistências ou rebotes)?"
      ],
      "metadata": {
        "id": "Jrozsi56kHqb"
      }
    },
    {
      "cell_type": "markdown",
      "source": [
        "Como a idade dos jogadores está correlacionada com o desempenho em quadra?"
      ],
      "metadata": {
        "id": "lw2lhE_ykMRM"
      }
    },
    {
      "cell_type": "markdown",
      "source": [
        "Quais são as tendências de desempenho por posição (armadores, alas, pivôs) em termos de pontos, assistências e rebotes?"
      ],
      "metadata": {
        "id": "-ldgsO_Mka0a"
      }
    }
  ]
}