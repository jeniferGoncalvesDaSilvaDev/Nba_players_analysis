{
  "nbformat": 4,
  "nbformat_minor": 0,
  "metadata": {
    "colab": {
      "provenance": [],
      "authorship_tag": "ABX9TyOIoYRMFvUGo+vwMeOCk/SR",
      "include_colab_link": true
    },
    "kernelspec": {
      "name": "python3",
      "display_name": "Python 3"
    },
    "language_info": {
      "name": "python"
    }
  },
  "cells": [
    {
      "cell_type": "markdown",
      "metadata": {
        "id": "view-in-github",
        "colab_type": "text"
      },
      "source": [
        "<a href=\"https://colab.research.google.com/github/jeniferGoncalvesDaSilvaDev/Nba_players_analysis/blob/main/Api_Nba_analysis.ipynb\" target=\"_parent\"><img src=\"https://colab.research.google.com/assets/colab-badge.svg\" alt=\"Open In Colab\"/></a>"
      ]
    },
    {
      "cell_type": "code",
      "source": [
        "import requests as req\n",
        "import pandas as pd\n",
        "\n",
        "url_stats = \"https://api.sportsdata.io/v3/nba/stats/json/PlayerSeasonStats/2024?key=206f9aab3e214cabb6d430e861b540e2\"\n",
        "\n",
        "# Fetch the data from the API\n",
        "api_stats_response = req.get(url_stats)\n",
        "\n",
        "# Check if the request was successful (status code 200)\n",
        "if api_stats_response.status_code == 200:\n",
        "    api_stats_json = api_stats_response.json()\n",
        "    df = pd.DataFrame(api_stats_json)\n",
        "    print(df.head())\n",
        "else:\n",
        "    # Print an error message if the request failed\n",
        "    print(f\"Error: API request failed with status code {api_stats_response.status_code}\")\n",
        "    print(api_stats_response.text)  # Print the error message from the API response\n",
        "\n",
        "\n",
        "\n",
        "\n",
        "\n",
        "#Como a idade dos jogadores está correlacionada com o desempenho em quadra?\n",
        "#Quais são as tendências de desempenho por posição (armadores, alas, pivôs) em termos de pontos, assistências e rebotes?"
      ],
      "metadata": {
        "colab": {
          "base_uri": "https://localhost:8080/"
        },
        "id": "PSc0l2LvYE8f",
        "outputId": "eccf029c-77d6-4f57-a70b-5e4d74fee5c1"
      },
      "execution_count": null,
      "outputs": [
        {
          "output_type": "stream",
          "name": "stdout",
          "text": [
            "    StatID  TeamID  PlayerID  SeasonType  Season               Name Team  \\\n",
            "0  1114267      29  20000441           1    2024       Bradley Beal  PHO   \n",
            "1  1115311      17  20000443           1    2024    Otto Porter Jr.  UTA   \n",
            "2  1115371      10  20000452           1    2024     Garrett Temple  TOR   \n",
            "3  1115035      23  20000455           1    2024  Jonas Valanciunas   NO   \n",
            "4  1115120      11  20000456           1    2024      DeMar DeRozan  CHI   \n",
            "\n",
            "  Position  Started  GlobalTeamID  ... FantasyPointsFanDuel  \\\n",
            "0       SG       53      20000029  ...               1072.0   \n",
            "1       SF        1      20000017  ...                 69.9   \n",
            "2       SG        2      20000010  ...                132.0   \n",
            "3        C       82      20000023  ...               1421.8   \n",
            "4       SF       79      20000011  ...               1968.8   \n",
            "\n",
            "   FantasyPointsDraftKings  FantasyPointsYahoo  PlusMinus  DoubleDoubles  \\\n",
            "0                   1104.6              1072.0       65.7            1.1   \n",
            "1                     67.7                69.9       13.5            0.0   \n",
            "2                    132.2               132.0      -48.5            0.0   \n",
            "3                   1458.4              1421.8       97.0           20.3   \n",
            "4                   1967.3              1968.8      -38.1            2.6   \n",
            "\n",
            "   TripleDoubles  FantasyPointsFantasyDraft  IsClosed  LineupConfirmed  \\\n",
            "0            0.0                     1104.6     False             None   \n",
            "1            0.0                       67.7     False             None   \n",
            "2            0.0                      132.2     False             None   \n",
            "3            0.0                     1458.4     False             None   \n",
            "4            0.0                     1967.3     False             None   \n",
            "\n",
            "   LineupStatus  \n",
            "0     Scrambled  \n",
            "1     Scrambled  \n",
            "2     Scrambled  \n",
            "3     Scrambled  \n",
            "4     Scrambled  \n",
            "\n",
            "[5 rows x 58 columns]\n"
          ]
        }
      ]
    },
    {
      "cell_type": "code",
      "source": [
        "import http.client\n",
        "import json\n",
        "import pandas as pd\n",
        "\n",
        "# Fazendo a conexão e a requisição\n",
        "conn = http.client.HTTPSConnection(\"api-nba-v1.p.rapidapi.com\")\n",
        "\n",
        "headers = {\n",
        "    'x-rapidapi-key': \"8af1a35e99msh804c579fefe76fbp1d2702jsn56347a576525\",\n",
        "    'x-rapidapi-host': \"api-nba-v1.p.rapidapi.com\"\n",
        "}\n",
        "\n",
        "conn.request(\"GET\", \"/players/statistics?game=8133\", headers=headers)\n",
        "\n",
        "res = conn.getresponse()\n",
        "data = res.read()\n",
        "\n",
        "# Decodificando os dados e convertendo de JSON para dicionário\n",
        "json_data = json.loads(data.decode(\"utf-8\"))\n",
        "\n",
        "print(json_data)"
      ],
      "metadata": {
        "id": "l7fFwZAkWYP0",
        "outputId": "ad65469c-652f-4603-c471-72ee7389b0f2",
        "colab": {
          "base_uri": "https://localhost:8080/"
        }
      },
      "execution_count": 5,
      "outputs": [
        {
          "output_type": "stream",
          "name": "stdout",
          "text": [
            "{'message': 'You are not subscribed to this API.'}\n"
          ]
        }
      ]
    },
    {
      "cell_type": "markdown",
      "source": [
        "Quais jogadores têm o melhor desempenho em determinadas métricas básicas (como pontos por jogo, assistências ou rebotes)?"
      ],
      "metadata": {
        "id": "XFjGs96XWZJx"
      }
    }
  ]
}