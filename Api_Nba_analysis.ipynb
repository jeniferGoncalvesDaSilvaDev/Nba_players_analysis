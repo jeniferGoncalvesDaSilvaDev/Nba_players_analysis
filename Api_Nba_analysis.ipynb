{
  "nbformat": 4,
  "nbformat_minor": 0,
  "metadata": {
    "colab": {
      "provenance": [],
      "authorship_tag": "ABX9TyOmvOuxOIrMij9MZzQzrBGC",
      "include_colab_link": true
    },
    "kernelspec": {
      "name": "python3",
      "display_name": "Python 3"
    },
    "language_info": {
      "name": "python"
    }
  },
  "cells": [
    {
      "cell_type": "markdown",
      "metadata": {
        "id": "view-in-github",
        "colab_type": "text"
      },
      "source": [
        "<a href=\"https://colab.research.google.com/github/jeniferGoncalvesDaSilvaDev/Nba_players_analysis/blob/main/Api_Nba_analysis.ipynb\" target=\"_parent\"><img src=\"https://colab.research.google.com/assets/colab-badge.svg\" alt=\"Open In Colab\"/></a>"
      ]
    },
    {
      "cell_type": "code",
      "source": [
        "import requests as req\n",
        "import pandas as pd\n",
        "\n",
        "url_stats = \"https://api.sportsdata.io/v3/nba/stats/json/PlayerSeasonStatsByPlayer/2024?key=206f9aab3e214cabb6d430e861b540e2\"\n",
        "\n",
        "# Fetch the data from the API\n",
        "api_stats_response = req.get(url_stats)\n",
        "\n",
        "# Check if the request was successful (status code 200)\n",
        "if api_stats_response.status_code == 200:\n",
        "    api_stats_json = api_stats_response.json()\n",
        "    df = pd.DataFrame(api_stats_json)\n",
        "    print(df.head())\n",
        "else:\n",
        "    # Print an error message if the request failed\n",
        "    print(f\"Error: API request failed with status code {api_stats_response.status_code}\")\n",
        "    print(api_stats_response.text)  # Print the error message from the API response\n",
        "\n",
        "\n",
        "\n",
        "\n",
        "\n",
        "#Como a idade dos jogadores está correlacionada com o desempenho em quadra?\n",
        "#Quais são as tendências de desempenho por posição (armadores, alas, pivôs) em termos de pontos, assistências e rebotes?"
      ],
      "metadata": {
        "colab": {
          "base_uri": "https://localhost:8080/"
        },
        "id": "PSc0l2LvYE8f",
        "outputId": "c291d085-01f6-48ed-a5f4-874d21267d93"
      },
      "execution_count": 8,
      "outputs": [
        {
          "output_type": "stream",
          "name": "stdout",
          "text": [
            "Error: API request failed with status code 404\n",
            "{ \"statusCode\": 404, \"message\": \"Resource not found\" }\n"
          ]
        }
      ]
    },
    {
      "cell_type": "markdown",
      "source": [
        "Quais jogadores têm o melhor desempenho em determinadas métricas básicas (como pontos por jogo, assistências ou rebotes)?"
      ],
      "metadata": {
        "id": "XFjGs96XWZJx"
      }
    },
    {
      "cell_type": "code",
      "source": [
        "\n",
        "\n",
        "player= df[['PlayerID', 'FirstName', 'LastName']]\n",
        "#print(player)\n",
        "sports_data_id = df['SportsDataID']\n",
        "print(sports_data_id)"
      ],
      "metadata": {
        "id": "9QNcNP0bWTTi"
      },
      "execution_count": null,
      "outputs": []
    },
    {
      "cell_type": "code",
      "source": [],
      "metadata": {
        "id": "l7fFwZAkWYP0"
      },
      "execution_count": null,
      "outputs": []
    }
  ]
}